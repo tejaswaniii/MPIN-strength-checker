{
 "cells": [
  {
   "cell_type": "code",
   "execution_count": 1,
   "id": "e64cd728-fb1a-4140-9ce5-603d8fa832c6",
   "metadata": {},
   "outputs": [],
   "source": [
    "import datetime"
   ]
  },
  {
   "cell_type": "code",
   "execution_count": 2,
   "id": "16058b89-da18-4cc4-a643-706da00a9465",
   "metadata": {},
   "outputs": [],
   "source": [
    "# List of commonly used weak MPINs\n",
    "common_mpins = [\n",
    "    \"1234\", \"1111\", \"0000\", \"1212\", \"7777\", \"1004\", \"2000\", \"6969\", \"2222\", \"9999\",\n",
    "    \"123456\", \"000000\", \"111111\", \"121212\", \"654321\", \"999999\"\n",
    "]"
   ]
  },
  {
   "cell_type": "code",
   "execution_count": 3,
   "id": "b3b0a0da-c54f-4961-86a0-49c2a7836f63",
   "metadata": {},
   "outputs": [],
   "source": [
    "def get_date_patterns(date_str):\n",
    "    \"\"\"Generate different patterns from a date string.\"\"\"\n",
    "    try:\n",
    "        dt = datetime.datetime.strptime(date_str, \"%Y-%m-%d\")\n",
    "        return [\n",
    "            dt.strftime(\"%d%m\"),\n",
    "            dt.strftime(\"%m%d\"),\n",
    "            dt.strftime(\"%d%m%y\"),\n",
    "            dt.strftime(\"%d%m%Y\")\n",
    "        ]\n",
    "    except ValueError:\n",
    "        return []\n",
    "\n",
    "def check_mpin_strength(mpin, dob_self, dob_spouse, anniversary):\n",
    "    \"\"\"Analyze MPIN strength based on common patterns.\"\"\"\n",
    "    reasons = []\n",
    "    \n",
    "    # Get pattern combinations\n",
    "    self_patterns = get_date_patterns(dob_self)\n",
    "    spouse_patterns = get_date_patterns(dob_spouse)\n",
    "    anniv_patterns = get_date_patterns(anniversary)\n",
    "\n",
    "    # Check for weaknesses\n",
    "    if mpin in common_mpins:\n",
    "        reasons.append(\"COMMONLY_USED\")\n",
    "    if mpin in self_patterns:\n",
    "        reasons.append(\"DEMOGRAPHIC_DOB_SELF\")\n",
    "    if mpin in spouse_patterns:\n",
    "        reasons.append(\"DEMOGRAPHIC_DOB_SPOUSE\")\n",
    "    if mpin in anniv_patterns:\n",
    "        reasons.append(\"DEMOGRAPHIC_ANNIVERSARY\")\n",
    "    strength = \"WEAK\" if reasons else \"STRONG\"\n",
    "    return strength, reasons"
   ]
  },
  {
   "cell_type": "code",
   "execution_count": 4,
   "id": "52501752-20d7-4c3d-b28e-ad6df6f52155",
   "metadata": {},
   "outputs": [
    {
     "name": "stdout",
     "output_type": "stream",
     "text": [
      "MPIN STRENGTH CHECKER \n"
     ]
    },
    {
     "name": "stdin",
     "output_type": "stream",
     "text": [
      "Enter a 4 or 6-digit MPIN:  1234\n",
      "Enter your DOB (YYYY-MM-DD):  2003-07-01\n",
      "Enter Spouse DOB (YYYY-MM-DD):  2002-06-16\n",
      "Enter Anniversary Date (YYYY-MM-DD):  2024-01-01\n"
     ]
    },
    {
     "name": "stdout",
     "output_type": "stream",
     "text": [
      "\n",
      " RESULT\n",
      "MPIN: 1234\n",
      "Strength: WEAK\n",
      "Weakness Reasons: ['COMMONLY_USED']\n"
     ]
    }
   ],
   "source": [
    "#tUser Input \n",
    "print(\"MPIN STRENGTH CHECKER \")\n",
    "mpin = input(\"Enter a 4 or 6-digit MPIN: \").strip()\n",
    "dob_self = input(\"Enter your DOB (YYYY-MM-DD): \").strip()\n",
    "dob_spouse = input(\"Enter Spouse DOB (YYYY-MM-DD): \").strip()\n",
    "anniversary = input(\"Enter Anniversary Date (YYYY-MM-DD): \").strip()\n",
    "\n",
    "# Result Evaluation \n",
    "strength, reasons = check_mpin_strength(mpin, dob_self, dob_spouse, anniversary)\n",
    "\n",
    "# Output \n",
    "print(\"\\n RESULT\")\n",
    "print(f\"MPIN: {mpin}\")\n",
    "print(f\"Strength: {strength}\")\n",
    "print(f\"Weakness Reasons: {reasons if reasons else 'None'}\")"
   ]
  },
  {
   "cell_type": "code",
   "execution_count": 5,
   "id": "6a0c8429-566f-4669-8d1d-9fa821badc92",
   "metadata": {},
   "outputs": [],
   "source": [
    "%history -f mpin_user_input.py"
   ]
  },
  {
   "cell_type": "code",
   "execution_count": null,
   "id": "5bdf55cf-6d06-4720-824f-b36b458a7d6c",
   "metadata": {},
   "outputs": [],
   "source": []
  }
 ],
 "metadata": {
  "kernelspec": {
   "display_name": "Python 3 (ipykernel)",
   "language": "python",
   "name": "python3"
  },
  "language_info": {
   "codemirror_mode": {
    "name": "ipython",
    "version": 3
   },
   "file_extension": ".py",
   "mimetype": "text/x-python",
   "name": "python",
   "nbconvert_exporter": "python",
   "pygments_lexer": "ipython3",
   "version": "3.12.4"
  }
 },
 "nbformat": 4,
 "nbformat_minor": 5
}
