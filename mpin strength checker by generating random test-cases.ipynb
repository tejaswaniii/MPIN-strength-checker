{
 "cells": [
  {
   "cell_type": "code",
   "execution_count": 1,
   "id": "19d68e09-4863-4fd1-b50e-3f9279ddf7ec",
   "metadata": {},
   "outputs": [],
   "source": [
    "import pandas as pd\n",
    "import random\n",
    "from datetime import datetime, timedelta"
   ]
  },
  {
   "cell_type": "code",
   "execution_count": 2,
   "id": "51736ca5-867e-4fe6-9b2b-5d650b61e1f2",
   "metadata": {},
   "outputs": [],
   "source": [
    "# Load the CSV file\n",
    "file_path = \"mpin_test_dataset.csv\"\n",
    "df = pd.read_csv(file_path)"
   ]
  },
  {
   "cell_type": "code",
   "execution_count": 3,
   "id": "2b5d0cd1-2131-4dbe-9742-d65d713b7653",
   "metadata": {},
   "outputs": [],
   "source": [
    "# Sample names, cities, genders for variety\n",
    "names = [\"Anjali\", \"Rohit\", \"Vikas\", \"Simran\", \"Neha\", \"Karan\", \"Tina\", \"Aman\", \"Preeti\", \"Manish\"]\n",
    "cities = [\"Mumbai\", \"Delhi\", \"Lucknow\", \"Chennai\", \"Kolkata\", \"Bengaluru\"]\n",
    "genders = [\"Male\", \"Female\", \"Other\"]"
   ]
  },
  {
   "cell_type": "code",
   "execution_count": 4,
   "id": "a243d502-c320-48a9-bbe3-4a454fb970db",
   "metadata": {},
   "outputs": [],
   "source": [
    "# Common weak MPINs (4 and 6 digits)\n",
    "common_mpins = [\"1234\", \"1111\", \"0000\", \"1212\", \"7777\", \"1004\", \"2000\", \"6969\", \"2222\", \"9999\",\n",
    "                \"123456\", \"000000\", \"111111\", \"121212\", \"654321\", \"999999\" ]\n"
   ]
  },
  {
   "cell_type": "code",
   "execution_count": 5,
   "id": "5f6de91c-3110-4a70-bb2f-baf9e11e1a22",
   "metadata": {},
   "outputs": [],
   "source": [
    "#Function to generate a random date in YYYY-MM-DD format\n",
    "def generate_random_date(start_year=1960, end_year=2022):\n",
    "    start_date = datetime(start_year, 1, 1)\n",
    "    end_date = datetime(end_year, 12, 31)\n",
    "    delta = end_date - start_date\n",
    "    random_days = random.randint(0, delta.days)\n",
    "    return (start_date + timedelta(days=random_days)).strftime(\"%Y-%m-%d\")"
   ]
  },
  {
   "cell_type": "code",
   "execution_count": 6,
   "id": "d178f50b-7a0c-4412-a9b0-4ce329a2a6f4",
   "metadata": {},
   "outputs": [],
   "source": [
    "# Generate 20 new rows\n",
    "new_data = []\n",
    "\n",
    "for i in range(20):\n",
    "    dob_self = generate_random_date(1970, 2005)\n",
    "    dob_spouse = generate_random_date(1970, 2005)\n",
    "    anniversary = generate_random_date(1990, 2024)\n",
    "\n",
    "    name = random.choice(names)\n",
    "    gender = random.choice(genders)\n",
    "    location = random.choice(cities)"
   ]
  },
  {
   "cell_type": "code",
   "execution_count": 7,
   "id": "9eb0cce3-1416-42c0-b379-f6d1da5b3110",
   "metadata": {},
   "outputs": [],
   "source": [
    "# format DOBs for MPIN checking\n",
    "dob_self_ddmmyy = datetime.strptime(dob_self, \"%Y-%m-%d\").strftime(\"%d%m%y\")\n",
    "dob_spouse_ddmmyy = datetime.strptime(dob_spouse, \"%Y-%m-%d\").strftime(\"%d%m%y\")\n",
    "anniversary_ddmmyy = datetime.strptime(anniversary, \"%Y-%m-%d\").strftime(\"%d%m%y\")\n",
    "\n",
    "dob_self_ddmm = dob_self_ddmmyy[:4]\n",
    "dob_spouse_ddmm = dob_spouse_ddmmyy[:4]\n",
    "anniversary_ddmm = anniversary_ddmmyy[:4]\n"
   ]
  },
  {
   "cell_type": "code",
   "execution_count": 8,
   "id": "868fd5a6-1ef6-4fd1-a6f0-9b41da2aa313",
   "metadata": {},
   "outputs": [],
   "source": [
    "# Choose MPIN length (4 or 6)\n",
    "mpin_length = random.choice([4, 6])"
   ]
  },
  {
   "cell_type": "code",
   "execution_count": 9,
   "id": "6c80197d-b9f2-4927-8267-faedc21a1288",
   "metadata": {},
   "outputs": [],
   "source": [
    "# Decide MPIN type\n",
    "is_weak = random.choice([True, False])\n",
    "if is_weak:\n",
    "    mpin = random.choice(common_mpins + [dob_self_ddmm, dob_spouse_ddmm, anniversary_ddmm])\n",
    "else:\n",
    "    while True:\n",
    "        mpin_length = random.choice([4, 6])  # Randomly choose 4 or 6-digit\n",
    "        mpin = ''.join(random.choices(\"0123456789\", k=mpin_length))\n",
    "        if mpin not in common_mpins and mpin not in [dob_self_ddmm, dob_self_ddmmyy,\n",
    "                                                 dob_spouse_ddmm, dob_spouse_ddmmyy,\n",
    "                                                 anniversary_ddmm, anniversary_ddmmyy]:\n",
    "            break"
   ]
  },
  {
   "cell_type": "code",
   "execution_count": 10,
   "id": "8e99a136-fc50-4572-b3e9-088e07595bb3",
   "metadata": {},
   "outputs": [],
   "source": [
    "# Determine weakness reasons\n",
    "reasons = []\n",
    "if mpin in [dob_self_ddmm, dob_self_ddmmyy]:\n",
    "    reasons.append(\"DEMOGRAPHIC_DOB_SELF\")\n",
    "if mpin in common_mpins:\n",
    "    reasons.append(\"COMMONLY_USED\")\n",
    "if mpin == dob_self_ddmm:\n",
    "    reasons.append(\"DEMOGRAPHIC_DOB_SELF\")\n",
    "if mpin == dob_spouse_ddmm:\n",
    "    reasons.append(\"DEMOGRAPHIC_DOB_SPOUSE\")\n",
    "if mpin == anniversary_ddmm:\n",
    "    reasons.append(\"DEMOGRAPHIC_ANNIVERSARY\")\n",
    "    \n",
    "    final_strength = \"WEAK\" if reasons else \"STRONG\"\n",
    "\n",
    "    new_data.append({\n",
    "        \"mpin\": mpin,\n",
    "        \"mpin_length\": len(mpin),\n",
    "        \"dob_self\": dob_self,\n",
    "        \"dob_spouse\": dob_spouse,\n",
    "        \"anniversary\": anniversary,\n",
    "        \"expected_strength\": final_strength,\n",
    "        \"expected_reasons\": \";\".join(reasons)\n",
    "    })"
   ]
  },
  {
   "cell_type": "code",
   "execution_count": 11,
   "id": "9b7cf9ce-f6c4-49ef-a58f-3fc85d78e2b9",
   "metadata": {},
   "outputs": [],
   "source": [
    "# Append to existing data\n",
    "df_new = pd.DataFrame(new_data)\n",
    "df = pd.concat([df, df_new], ignore_index=True)\n"
   ]
  },
  {
   "cell_type": "code",
   "execution_count": 12,
   "id": "02c6349c-9a93-4a6c-8582-48701ee4c463",
   "metadata": {},
   "outputs": [],
   "source": [
    "# Save back to CSV\n",
    "df.to_csv(file_path, index=False)\n"
   ]
  },
  {
   "cell_type": "code",
   "execution_count": 13,
   "id": "bcc2b657-d03c-43b9-b621-6a722462b5c4",
   "metadata": {},
   "outputs": [
    {
     "name": "stdout",
     "output_type": "stream",
     "text": [
      "Successfully appended 20+ random records.\n"
     ]
    }
   ],
   "source": [
    "print(\"Successfully appended 20+ random records.\")"
   ]
  },
  {
   "cell_type": "code",
   "execution_count": null,
   "id": "4d182a32-6841-45a0-83aa-ebddff26c0f4",
   "metadata": {},
   "outputs": [],
   "source": [
    "%history -f mpin.py"
   ]
  },
  {
   "cell_type": "code",
   "execution_count": null,
   "id": "3eb38571-ddc7-4cba-943b-413f2b22e12f",
   "metadata": {},
   "outputs": [],
   "source": []
  }
 ],
 "metadata": {
  "kernelspec": {
   "display_name": "Python 3 (ipykernel)",
   "language": "python",
   "name": "python3"
  },
  "language_info": {
   "codemirror_mode": {
    "name": "ipython",
    "version": 3
   },
   "file_extension": ".py",
   "mimetype": "text/x-python",
   "name": "python",
   "nbconvert_exporter": "python",
   "pygments_lexer": "ipython3",
   "version": "3.12.4"
  }
 },
 "nbformat": 4,
 "nbformat_minor": 5
}
